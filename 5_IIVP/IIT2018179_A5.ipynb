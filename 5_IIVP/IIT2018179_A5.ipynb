{
 "cells": [
  {
   "cell_type": "markdown",
   "metadata": {},
   "source": [
    "# Assignment 5\n",
    "------"
   ]
  },
  {
   "cell_type": "code",
   "execution_count": 4,
   "metadata": {},
   "outputs": [],
   "source": [
    "import cv2\n",
    "import imutils\n",
    "import numpy as np\n",
    "from matplotlib import pyplot as plt"
   ]
  },
  {
   "cell_type": "markdown",
   "metadata": {},
   "source": [
    "## Q1 - Bit Shifting "
   ]
  },
  {
   "cell_type": "code",
   "execution_count": 32,
   "metadata": {},
   "outputs": [
    {
     "data": {
      "text/plain": [
       "True"
      ]
     },
     "execution_count": 32,
     "metadata": {},
     "output_type": "execute_result"
    }
   ],
   "source": [
    "img = cv2.imread('images/parrot.jpg')\n",
    "for j in range(img.shape[0]):\n",
    "    for k in range(img.shape[1]):\n",
    "        img[j][k][0] <<= img[j][k][0]\n",
    "        \n",
    "cv2.imwrite('red_shift.jpg', img)\n",
    "\n",
    "img = cv2.imread('images/parrot.jpg')\n",
    "for j in range(img.shape[0]):\n",
    "    for k in range(img.shape[1]):\n",
    "        img[j][k][1] <<= img[j][k][1]\n",
    "        \n",
    "cv2.imwrite('green_shift.jpg', img)\n",
    "   \n",
    "    \n",
    "img = cv2.imread('images/parrot.jpg')\n",
    "for j in range(img.shape[0]):\n",
    "    for k in range(img.shape[1]):\n",
    "        img[j][k][2] <<= img[j][k][2]\n",
    "            \n",
    "cv2.imwrite('blue_shift.jpg', img)"
   ]
  },
  {
   "cell_type": "markdown",
   "metadata": {},
   "source": [
    "## Q2 - Negative"
   ]
  },
  {
   "cell_type": "code",
   "execution_count": 33,
   "metadata": {},
   "outputs": [
    {
     "data": {
      "text/plain": [
       "True"
      ]
     },
     "execution_count": 33,
     "metadata": {},
     "output_type": "execute_result"
    }
   ],
   "source": [
    "img = cv2.imread('images/parrot.jpg', 0)      # Gray scale\n",
    "\n",
    "for i in range(img.shape[0]):\n",
    "    for j in range(img.shape[1]):\n",
    "        img[i][j] = 255 - img[i][j]\n",
    "\n",
    "cv2.imwrite('Negative.jpg', img)"
   ]
  },
  {
   "cell_type": "markdown",
   "metadata": {},
   "source": [
    "## Q3 - Thresholding"
   ]
  },
  {
   "cell_type": "code",
   "execution_count": 14,
   "metadata": {},
   "outputs": [
    {
     "name": "stdout",
     "output_type": "stream",
     "text": [
      "160\n"
     ]
    }
   ],
   "source": [
    "t = int(input())            # t = 160 works best for this image\n",
    "img = cv2.imread('images/coins.jpg', 0)\n",
    "\n",
    "\n",
    "for i in range(img.shape[0]):\n",
    "    for j in range(img.shape[1]):\n",
    "        if img[i][j] < t:\n",
    "            img[i][j] = 0\n",
    "        else:\n",
    "            img[i][j] = 255\n",
    "\n",
    "\n",
    "cv2.imshow('coins', img)\n",
    "cv2.waitKey(0)\n",
    "cv2.destroyAllWindows()"
   ]
  }
 ],
 "metadata": {
  "kernelspec": {
   "display_name": "Python 3",
   "language": "python",
   "name": "python3"
  },
  "language_info": {
   "codemirror_mode": {
    "name": "ipython",
    "version": 3
   },
   "file_extension": ".py",
   "mimetype": "text/x-python",
   "name": "python",
   "nbconvert_exporter": "python",
   "pygments_lexer": "ipython3",
   "version": "3.8.2"
  }
 },
 "nbformat": 4,
 "nbformat_minor": 4
}
