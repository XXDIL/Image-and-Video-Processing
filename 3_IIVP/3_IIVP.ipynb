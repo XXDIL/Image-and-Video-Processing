{
 "cells": [
  {
   "cell_type": "code",
   "execution_count": 2,
   "metadata": {},
   "outputs": [],
   "source": [
    "import cv2\n",
    "import numpy as np\n",
    "import matplotlib.pyplot as plt"
   ]
  },
  {
   "cell_type": "markdown",
   "metadata": {},
   "source": [
    "### 1) Read a gray scale image."
   ]
  },
  {
   "cell_type": "code",
   "execution_count": 12,
   "metadata": {},
   "outputs": [],
   "source": [
    "img = cv2.imread('images/lena.png', 0)"
   ]
  },
  {
   "cell_type": "markdown",
   "metadata": {},
   "source": [
    "### 2) Display the image."
   ]
  },
  {
   "cell_type": "code",
   "execution_count": 13,
   "metadata": {},
   "outputs": [],
   "source": [
    "cv2.imshow('lena', img)\n",
    "cv2.waitKey(0)\n",
    "cv2.destroyAllWindows()"
   ]
  },
  {
   "cell_type": "markdown",
   "metadata": {},
   "source": [
    "### 3) Reads a gray scale image and generate the flipped image of original image."
   ]
  },
  {
   "cell_type": "code",
   "execution_count": 8,
   "metadata": {},
   "outputs": [
    {
     "data": {
      "text/plain": [
       "True"
      ]
     },
     "execution_count": 8,
     "metadata": {},
     "output_type": "execute_result"
    }
   ],
   "source": [
    "img2 = []\n",
    "for i in range(img.shape[0]):\n",
    "    l = list(img[i][:])\n",
    "    l.reverse()\n",
    "    img2.append(l)\n",
    "    \n",
    "img2 = np.array(img2)\n",
    "        \n",
    "cv2.imwrite('images/lena_flipped.png', img2)"
   ]
  },
  {
   "cell_type": "markdown",
   "metadata": {},
   "source": [
    "### 4) Display the image\n",
    "- Pixel intensity < 50 will display as black\n",
    "- Pixel intensity > 150 will display as white\n",
    "- Pixel intensity between these will display as it is."
   ]
  },
  {
   "cell_type": "code",
   "execution_count": 10,
   "metadata": {},
   "outputs": [
    {
     "data": {
      "text/plain": [
       "True"
      ]
     },
     "execution_count": 10,
     "metadata": {},
     "output_type": "execute_result"
    }
   ],
   "source": [
    "for i in range(img.shape[0]):\n",
    "    for j in range(img.shape[1]):\n",
    "        if img[i][j] < 50:\n",
    "            img[i][j] = 0\n",
    "        elif img[i][j] > 150:\n",
    "            img[i][j] = 255\n",
    "\n",
    "            \n",
    "cv2.imwrite('images/lena_4.png', img)"
   ]
  },
  {
   "cell_type": "markdown",
   "metadata": {},
   "source": [
    "Imagine that we have an image with pixels like below. Write an appropriate code to show the\n",
    "histogram representation of the provided image."
   ]
  },
  {
   "cell_type": "code",
   "execution_count": 8,
   "metadata": {},
   "outputs": [
    {
     "data": {
      "image/png": "[encoded data removed]",
      "text/plain": [
       "<Figure size 432x288 with 1 Axes>"
      ]
     },
     "metadata": {
      "needs_background": "light"
     },
     "output_type": "display_data"
    }
   ],
   "source": [
    "image = [\n",
    "    [87, 90, 1],\n",
    "    [1, 89, 89],\n",
    "    [87, 120, 120],\n",
    "    [88, 100, 90],\n",
    "    [2, 88, 88],\n",
    "    [2, 90, 90]\n",
    "]\n",
    "\n",
    "l = []\n",
    "\n",
    "for i in image:\n",
    "    for j in i:\n",
    "        l.append(j)\n",
    "\n",
    "plt.hist(l, bins=120)   \n",
    "plt.title(\"Histogram\")\n",
    "plt.show()"
   ]
  }
 ],
 "metadata": {
  "kernelspec": {
   "display_name": "Python 3",
   "language": "python",
   "name": "python3"
  },
  "language_info": {
   "codemirror_mode": {
    "name": "ipython",
    "version": 3
   },
   "file_extension": ".py",
   "mimetype": "text/x-python",
   "name": "python",
   "nbconvert_exporter": "python",
   "pygments_lexer": "ipython3",
   "version": "3.8.2"
  }
 },
 "nbformat": 4,
 "nbformat_minor": 4
}
