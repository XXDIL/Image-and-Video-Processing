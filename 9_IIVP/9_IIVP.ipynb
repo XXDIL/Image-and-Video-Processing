{
 "cells": [
  {
   "cell_type": "markdown",
   "metadata": {},
   "source": [
    "## Assignment 9"
   ]
  },
  {
   "cell_type": "code",
   "execution_count": 1,
   "metadata": {},
   "outputs": [],
   "source": [
    "import numpy as np\n",
    "import math\n",
    "from textwrap import fill"
   ]
  },
  {
   "cell_type": "markdown",
   "metadata": {},
   "source": [
    "## Theory\n",
    "\n",
    "### Fixed Size Coding\n"
   ]
  },
  {
   "cell_type": "code",
   "execution_count": 2,
   "metadata": {},
   "outputs": [
    {
     "name": "stdout",
     "output_type": "stream",
     "text": [
      "\t   TABLE\n",
      "B \t 5 \t 0.25 \t 001\n",
      "C \t 6 \t 0.3 \t 010\n",
      "A \t 3 \t 0.15 \t 000\n",
      "D \t 4 \t 0.2 \t 011\n",
      "E \t 2 \t 0.1 \t 100\n",
      "\n",
      "\n",
      "Number of letters in the Message = 20\n",
      "\n",
      "Length of each bit if send without Encoding = 8\n",
      "finale size of message to be sent = 20 * 8 = 160 bits\n",
      "\n",
      "ENCODED MESSAGE SIZE : \n",
      "Length of each bit if send with Encoding = 3\n",
      "Space needed for the Encoded Message = 20 * 3 = 60\n",
      "\n",
      "TABLE SIZE : \n",
      "Size of Character = 5 * 8 = 40 bits\n",
      "Size for Code = 5 * 3 = 15 bits\n",
      "Extra space to send the sub table = 40 + 15 = 55 bits\n",
      "Finale size of Message + Table to be sent = 55 * 60 = 115 bits\n"
     ]
    }
   ],
   "source": [
    "Message = 'BCCABBDDAECCBBAEDDCC'\n",
    "l = len(Message)\n",
    "\n",
    "frequency = {}\n",
    "for i in Message:\n",
    "    if i not in frequency.keys():\n",
    "        frequency[i] = 1\n",
    "    else:\n",
    "        frequency[i] += 1\n",
    "        \n",
    "bits = int((math.log(len(frequency)) / math.log(2)) + 1)\n",
    "    \n",
    "print('\\t   TABLE')\n",
    "for i,j in frequency.items():\n",
    "    ans = (bin(ord(i)- ord('A')))[2:].zfill(bits)\n",
    "    print(i, '\\t',j, '\\t', j/l, '\\t', ans)\n",
    "    \n",
    "print('\\n\\nNumber of letters in the Message = {}\\n'.format(l))\n",
    "\n",
    "print('Length of each bit if send without Encoding = {}'.format(8))\n",
    "print('finale size of message to be sent = {} * 8 = {} bits\\n'.format(l, l*8))\n",
    "\n",
    "print('ENCODED MESSAGE SIZE : \\nLength of each bit if send with Encoding = {}'.format(bits))\n",
    "print('Space needed for the Encoded Message = {} * {} = {}'.format(l, bits, l*bits))\n",
    "print('\\nTABLE SIZE : \\nSize of Character = {} * 8 = {} bits'.format(len(frequency), len(frequency)*8))\n",
    "print('Size for Code = {} * {} = {} bits'.format(len(frequency), bits, len(frequency)*bits))\n",
    "print('Extra space to send the sub table = {} + {} = {} bits'.format(len(frequency)*8, len(frequency)*bits, len(frequency)*(bits+8)))\n",
    "print('Finale size of Message + Table to be sent = {} * {} = {} bits'.format(len(frequency)*(bits+8), l*bits, len(frequency)*(bits+8) + l*bits))"
   ]
  },
  {
   "cell_type": "markdown",
   "metadata": {},
   "source": [
    "### Variable Size Coding - (HUFFMAN Coding)"
   ]
  },
  {
   "cell_type": "code",
   "execution_count": 3,
   "metadata": {},
   "outputs": [],
   "source": [
    "class HuffmanTree(object):\n",
    "    def __init__(self, left=None, right=None):\n",
    "        self.left = left\n",
    "        self.right = right\n",
    "\n",
    "    def children(self):\n",
    "        return (self.left, self.right)\n",
    "\n",
    "    def nodes(self):\n",
    "        return (self.left, self.right)\n",
    "\n",
    "    def __str__(self):\n",
    "        return \"%s_%s\" % (self.left, self.right)\n",
    "\n",
    "## Tansverse the NodeTress in every possible way to get codings\n",
    "def huffmanCodeTree(node, left=True, binString=\"\"):\n",
    "    if type(node) is str:\n",
    "        return {node: binString}\n",
    "    (l, r) = node.children()\n",
    "    tree = dict()\n",
    "    tree.update(huffmanCodeTree(l, True, binString + \"0\"))\n",
    "    tree.update(huffmanCodeTree(r, False, binString + \"1\"))\n",
    "    return tree\n",
    "\n",
    "def huffmanCoding(string):\n",
    "    frequencyList = {}\n",
    "    for char in string:\n",
    "        if char in frequencyList: #count frequency of char in the string\n",
    "            frequencyList[char] += 1\n",
    "        else:\n",
    "            frequencyList[char] = 1\n",
    "\n",
    "    # Sort the frequency table based on occurrence this will also convert the\n",
    "    # dict to a list of tuples\n",
    "    frequencyList = sorted(frequencyList.items(), key=lambda x: x[1], reverse=True)\n",
    "\n",
    "    nodes = frequencyList\n",
    "\n",
    "    while len(nodes) > 1:\n",
    "        keyLeft, freqLeft = nodes[-1]\n",
    "        keyRight, freqRight = nodes[-2]#\n",
    "        nodes = nodes[:-2]#removes first 2 nodes from PQ\n",
    "        parentNode = HuffmanTree(keyLeft, keyRight)\n",
    "        nodes.append((parentNode, freqLeft + freqRight))\n",
    "        nodes = sorted(nodes, key=lambda x: x[1], reverse=True)# Re-sort the list\n",
    "    \n",
    "    huffmanCode = huffmanCodeTree(nodes[0][0])#start running the tree by the root\n",
    "\n",
    "    #PRINT\n",
    "    print(\"\\n Character | Frequency  | Huffman code \")\n",
    "    print(\"-----------------------------------------\")\n",
    "    for char, frequency in frequencyList:\n",
    "        print(\" %-9r | %10d | %12s\" % (char, frequency, huffmanCode[char]))\n",
    "\n",
    "    count = 0\n",
    "    str = \"\"\n",
    "    #print(\"\\nThe encoded string is:\")\n",
    "    for char in string:\n",
    "        #print(huffmanCode[char], end='')\n",
    "        str += huffmanCode[char]\n",
    "        count += len(huffmanCode[char])\n",
    "    print(\"\\nThe encoded string is:\")\n",
    "    print(fill(str, width=75))\n",
    "    print(\"\\n\\nThe total length of coding is:\")\n",
    "    print(count)\n",
    "    \n",
    "    return frequencyList, huffmanCode\n",
    "\n",
    "def getString(filename):  # Get graph from file\n",
    "    file = open(filename, \"r\", encoding='utf-8')\n",
    "    lines = file.readlines()\n",
    "    string = ' '.join(lines)\n",
    "    return string"
   ]
  },
  {
   "cell_type": "markdown",
   "metadata": {},
   "source": [
    "## Q1"
   ]
  },
  {
   "cell_type": "code",
   "execution_count": 4,
   "metadata": {},
   "outputs": [
    {
     "name": "stdout",
     "output_type": "stream",
     "text": [
      "\n",
      "Input : Message.txt\n",
      "\n",
      " Character | Frequency  | Huffman code \n",
      "-----------------------------------------\n",
      " 'A'       |          4 |           01\n",
      " 'B'       |          4 |           00\n",
      " 'C'       |          2 |          101\n",
      " 'D'       |          2 |          100\n",
      " 'E'       |          2 |          111\n",
      " 'F'       |          1 |         1101\n",
      " '\\n'      |          1 |         1100\n",
      "\n",
      "The encoded string is:\n",
      "010101010000000010110110010011111111011100\n",
      "\n",
      "\n",
      "The total length of coding is:\n",
      "42\n"
     ]
    }
   ],
   "source": [
    "probs = [0.25, 0.25, 0.125, 0.125, 0.125, 0.0625, 0.0625]\n",
    "stringFile = getString('Message.txt')\n",
    "print('\\nInput : Message.txt')\n",
    "frequency, huff = huffmanCoding(stringFile)"
   ]
  },
  {
   "cell_type": "code",
   "execution_count": 5,
   "metadata": {},
   "outputs": [
    {
     "data": {
      "text/plain": [
       "(2.625, 2.625, 100.0)"
      ]
     },
     "execution_count": 5,
     "metadata": {},
     "output_type": "execute_result"
    }
   ],
   "source": [
    "# Average Code Length\n",
    "avg_code_len = 0\n",
    "for i in range(7):\n",
    "    avg_code_len += probs[i] * len(huff[frequency[i][0]])\n",
    "    \n",
    "# Entropy\n",
    "entropy = 0\n",
    "for i in range(7):\n",
    "    entropy += probs[i]*math.log(probs[i], 2.0)\n",
    "    \n",
    "# Efficiency\n",
    "effeciency = (-entropy / avg_code_len) * 100\n",
    "    \n",
    "avg_code_len, -entropy, effeciency"
   ]
  },
  {
   "cell_type": "markdown",
   "metadata": {},
   "source": [
    "## Q2\n",
    "\n",
    "### LZW  Encoding"
   ]
  },
  {
   "cell_type": "code",
   "execution_count": 6,
   "metadata": {},
   "outputs": [],
   "source": [
    "def search_dic(x, dic):\n",
    "    for i, j in dic.items():\n",
    "        if x == j:\n",
    "            return i\n",
    "    \n",
    "\n",
    "message = 'ababbabcababba'\n",
    "encoded = []\n",
    "l = len(message)\n",
    "dic = {1:'a', 2:'b', 3:'c'}\n",
    "c = 3\n",
    "i, j = 0, 0\n",
    "while i < l and j < l:\n",
    "    if message[i:j+1] in dic.values():\n",
    "        j += 1\n",
    "    else:\n",
    "        c += 1\n",
    "        dic[c] = message[i:j+1]\n",
    "        \n",
    "        encoded.append(search_dic(message[i:j], dic))\n",
    "        i += j-i\n",
    "\n",
    "encoded.append(search_dic(message[i:j], dic))"
   ]
  },
  {
   "cell_type": "code",
   "execution_count": 7,
   "metadata": {},
   "outputs": [
    {
     "data": {
      "text/plain": [
       "[1, 2, 4, 5, 2, 3, 4, 6, 1]"
      ]
     },
     "execution_count": 7,
     "metadata": {},
     "output_type": "execute_result"
    }
   ],
   "source": [
    "encoded"
   ]
  },
  {
   "cell_type": "markdown",
   "metadata": {},
   "source": [
    "### LZW Decoding"
   ]
  },
  {
   "cell_type": "code",
   "execution_count": 74,
   "metadata": {},
   "outputs": [],
   "source": [
    "dic = {1:'a', 2:'b', 3:'c'}\n",
    "l = len(encoded)\n",
    "\n",
    "message = []\n",
    "\n",
    "entry = {}\n",
    "partial = {}\n",
    "c = 4\n",
    "\n",
    "\n",
    "for i in range(l):\n",
    "    if encoded[i] in dic.keys():\n",
    "        message.append(dic[encoded[i]])\n",
    "        \n",
    "        if i != 0:\n",
    "            entry[search_dic(list(partial.values())[-1], partial)] = list(partial.values())[-1] + dic[encoded[i]]\n",
    "            \n",
    "        partial[c] = dic[encoded[i]]\n",
    "        \n",
    "    elif encoded[i] in entry.keys():\n",
    "        message.append(entry[encoded[i]])\n",
    "        \n",
    "        entry[search_dic(list(partial.values())[-1], partial)] = list(partial.values())[-1] + message[-1][0]\n",
    "            \n",
    "        partial[c] = entry[encoded[i]]\n",
    "        \n",
    "    c += 1"
   ]
  },
  {
   "cell_type": "code",
   "execution_count": 75,
   "metadata": {},
   "outputs": [
    {
     "data": {
      "text/plain": [
       "['a', 'b', 'ab', 'ba', 'b', 'c', 'ab', 'abb', 'a']"
      ]
     },
     "execution_count": 75,
     "metadata": {},
     "output_type": "execute_result"
    }
   ],
   "source": [
    "message"
   ]
  }
 ],
 "metadata": {
  "kernelspec": {
   "display_name": "Python 3",
   "language": "python",
   "name": "python3"
  },
  "language_info": {
   "codemirror_mode": {
    "name": "ipython",
    "version": 3
   },
   "file_extension": ".py",
   "mimetype": "text/x-python",
   "name": "python",
   "nbconvert_exporter": "python",
   "pygments_lexer": "ipython3",
   "version": "3.8.5"
  }
 },
 "nbformat": 4,
 "nbformat_minor": 4
}
