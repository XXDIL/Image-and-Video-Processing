{
 "cells": [
  {
   "cell_type": "code",
   "execution_count": 2,
   "metadata": {},
   "outputs": [],
   "source": [
    "import cv2\n",
    "import imutils\n",
    "import numpy as np\n",
    "from matplotlib import pyplot as plt"
   ]
  },
  {
   "cell_type": "code",
   "execution_count": 9,
   "metadata": {},
   "outputs": [],
   "source": [
    "img = cv2.imread('images/lena.png', 0)"
   ]
  },
  {
   "cell_type": "code",
   "execution_count": 24,
   "metadata": {},
   "outputs": [],
   "source": [
    "cv2.imshow('IMAGE', img)\n",
    "cv2.waitKey(0)\n",
    "# cv2.imwrite('Mancopy.jpeg', img)    \n",
    "cv2.destroyAllWindows()"
   ]
  },
  {
   "cell_type": "markdown",
   "metadata": {},
   "source": [
    "## Q1 - Bit plane slicing"
   ]
  },
  {
   "cell_type": "code",
   "execution_count": 38,
   "metadata": {},
   "outputs": [],
   "source": [
    "slices = np.zeros((img.shape[0], img.shape[1], 8))\n",
    "\n",
    "for i in range(img.shape[0]):\n",
    "    for j in range(img.shape[1]):\n",
    "        num = img[i][j]\n",
    "        for k in range(8):\n",
    "            slices[i][j][k] = (2**k)*(num&1)\n",
    "            num = num >> 1"
   ]
  },
  {
   "cell_type": "code",
   "execution_count": 37,
   "metadata": {},
   "outputs": [],
   "source": [
    "for i in range(8):\n",
    "    cv2.imwrite(\"bit\"+str(i)+\".png\", slices[:, :, i])"
   ]
  },
  {
   "cell_type": "markdown",
   "metadata": {},
   "source": [
    "## Q3 - low pass mask on Spatial Domail"
   ]
  },
  {
   "cell_type": "code",
   "execution_count": 22,
   "metadata": {},
   "outputs": [],
   "source": [
    "img = cv2.imread('horse1.jpg', 0)\n",
    "cv2.imshow('IMAGE', img)\n",
    "cv2.waitKey(0)\n",
    "cv2.imwrite('baw.jpg', img)    \n",
    "cv2.destroyAllWindows()"
   ]
  },
  {
   "cell_type": "code",
   "execution_count": 23,
   "metadata": {},
   "outputs": [],
   "source": [
    "mask = 1/9*np.ones((3, 3))\n",
    "\n",
    "for i in range(1, img.shape[0]-1):\n",
    "    for j in range(1, img.shape[1]-1):\n",
    "        sum = 0\n",
    "        for a in range(3):\n",
    "            for b in range(3):\n",
    "                sum += mask[a][b]*img[i-1+a][j-1+b]\n",
    "        img[i][j] = int(sum+0.5)"
   ]
  },
  {
   "cell_type": "code",
   "execution_count": 24,
   "metadata": {},
   "outputs": [],
   "source": [
    "cv2.imshow('blured', img)\n",
    "cv2.waitKey(0)\n",
    "cv2.imwrite('blured.jpg', img)    \n",
    "cv2.destroyAllWindows()"
   ]
  },
  {
   "cell_type": "markdown",
   "metadata": {},
   "source": [
    "## Q4 - High pass mask on Spatial Domail"
   ]
  },
  {
   "cell_type": "code",
   "execution_count": 38,
   "metadata": {},
   "outputs": [],
   "source": [
    "img = cv2.imread('horse1.jpg', 0)\n",
    "cv2.imshow('IMAGE', img)\n",
    "cv2.waitKey(0)\n",
    "cv2.destroyAllWindows()"
   ]
  },
  {
   "cell_type": "code",
   "execution_count": 36,
   "metadata": {},
   "outputs": [],
   "source": [
    "mask = np.array([[0, -1/8, 0], [-1/8, 1, -1/8], [0, -1/8, 0]])\n",
    "\n",
    "for i in range(1, img.shape[0]-1):\n",
    "    for j in range(1, img.shape[1]-1):\n",
    "        sum = 0\n",
    "        for a in range(3):\n",
    "            for b in range(3):\n",
    "                sum += mask[a][b]*img[i-1+a][j-1+b]\n",
    "        img[i][j] = int(sum+0.5)"
   ]
  },
  {
   "cell_type": "code",
   "execution_count": 37,
   "metadata": {},
   "outputs": [],
   "source": [
    "cv2.imshow('sharp', img)\n",
    "cv2.waitKey(0)\n",
    "cv2.imwrite('sharpened.jpg', img)    \n",
    "cv2.destroyAllWindows()"
   ]
  },
  {
   "cell_type": "markdown",
   "metadata": {},
   "source": [
    "## Q5 - Zooming\n",
    "\n",
    "#### Using Replication"
   ]
  },
  {
   "cell_type": "code",
   "execution_count": 77,
   "metadata": {},
   "outputs": [],
   "source": [
    "img = cv2.imread('horse1.jpg', 0)\n",
    "cv2.imshow('IMAGE', img)\n",
    "cv2.waitKey(0)\n",
    "cv2.destroyAllWindows()"
   ]
  },
  {
   "cell_type": "code",
   "execution_count": 100,
   "metadata": {},
   "outputs": [],
   "source": [
    "zoomed = np.zeros((img.shape[0]*2, img.shape[1]*2), dtype=np.uint8)\n",
    "\n",
    "for i in range(img.shape[0]):\n",
    "    for j in range(img.shape[1]):\n",
    "        zoomed[2*i][2*j] = (img[i][j])\n",
    "        zoomed[2*i][2*j+1] = (img[i][j])\n",
    "        zoomed[2*i+1][2*j] = (img[i][j])\n",
    "        zoomed[2*i+1][2*j+1] = (img[i][j])"
   ]
  },
  {
   "cell_type": "code",
   "execution_count": 101,
   "metadata": {},
   "outputs": [],
   "source": [
    "cv2.imshow('zoom', zoomed)\n",
    "cv2.waitKey(0)\n",
    "cv2.imwrite('zoomed.jpg', zoomed)    \n",
    "cv2.destroyAllWindows()"
   ]
  },
  {
   "cell_type": "markdown",
   "metadata": {},
   "source": [
    "#### Using interpolation"
   ]
  },
  {
   "cell_type": "code",
   "execution_count": 103,
   "metadata": {},
   "outputs": [],
   "source": [
    "img = cv2.imread('horse1.jpg', 0)\n",
    "cv2.imshow('IMAGE', img)\n",
    "cv2.waitKey(0)\n",
    "cv2.destroyAllWindows()"
   ]
  },
  {
   "cell_type": "code",
   "execution_count": 120,
   "metadata": {},
   "outputs": [
    {
     "name": "stderr",
     "output_type": "stream",
     "text": [
      "<ipython-input-120-0541d0db6361>:8: RuntimeWarning: overflow encountered in ubyte_scalars\n",
      "  zoomed[2*i+1][2*j+1] = int((img[i][j]+img[i+1][j+1])/2)\n",
      "<ipython-input-120-0541d0db6361>:6: RuntimeWarning: overflow encountered in ubyte_scalars\n",
      "  zoomed[2*i][2*j+1] = int((img[i][j]+img[i][j+1])/2)\n",
      "<ipython-input-120-0541d0db6361>:7: RuntimeWarning: overflow encountered in ubyte_scalars\n",
      "  zoomed[2*i+1][2*j] = int((img[i][j]+img[i+1][j])/2)\n"
     ]
    }
   ],
   "source": [
    "zoomed = np.zeros((img.shape[0]*2-1, img.shape[1]*2-1), dtype=np.uint8)\n",
    "\n",
    "for i in range(img.shape[0]-1):\n",
    "    for j in range(img.shape[1]-1):\n",
    "        zoomed[2*i][2*j] = img[i][j]\n",
    "        zoomed[2*i][2*j+1] = int((img[i][j]+img[i][j+1])/2)\n",
    "        zoomed[2*i+1][2*j] = int((img[i][j]+img[i+1][j])/2)\n",
    "        zoomed[2*i+1][2*j+1] = int((img[i][j]+img[i+1][j+1])/2)\n",
    "        \n"
   ]
  },
  {
   "cell_type": "code",
   "execution_count": 121,
   "metadata": {},
   "outputs": [],
   "source": [
    "cv2.imshow('zoom', zoomed)\n",
    "cv2.waitKey(0)\n",
    "cv2.imwrite('zoomed2.jpg', zoomed)    \n",
    "cv2.destroyAllWindows()"
   ]
  },
  {
   "cell_type": "code",
   "execution_count": null,
   "metadata": {},
   "outputs": [],
   "source": []
  }
 ],
 "metadata": {
  "kernelspec": {
   "display_name": "Python 3",
   "language": "python",
   "name": "python3"
  },
  "language_info": {
   "codemirror_mode": {
    "name": "ipython",
    "version": 3
   },
   "file_extension": ".py",
   "mimetype": "text/x-python",
   "name": "python",
   "nbconvert_exporter": "python",
   "pygments_lexer": "ipython3",
   "version": "3.8.2"
  }
 },
 "nbformat": 4,
 "nbformat_minor": 4
}
