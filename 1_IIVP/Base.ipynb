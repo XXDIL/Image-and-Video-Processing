{
 "cells": [
  {
   "cell_type": "markdown",
   "metadata": {},
   "source": [
    "# OpenCV using Python\n",
    "## Basic Imports"
   ]
  },
  {
   "cell_type": "code",
   "execution_count": 32,
   "metadata": {},
   "outputs": [],
   "source": [
    "import cv2\n",
    "import imutils\n",
    "import numpy as np\n",
    "from matplotlib import pyplot as plt"
   ]
  },
  {
   "cell_type": "markdown",
   "metadata": {},
   "source": [
    "------\n",
    "## Image Processing : 1<sup>st</sup> phase"
   ]
  },
  {
   "cell_type": "markdown",
   "metadata": {},
   "source": [
    "### **[Read, show and write an Image](#Read_Show_Write)**\n",
    "### **[Cropping](#Cropping)**\n",
    "### **[Resizing](#Resizing)**\n",
    "### **[Rotating](#Rotating_using_imutils)**\n",
    "### **[Grayscaling and Thresholding](#Grayscaling_and_Thresholding)**\n",
    "### **[Blurring/Smoothing](#Blurring/Smoothing)**"
   ]
  },
  {
   "cell_type": "markdown",
   "metadata": {},
   "source": [
    "## Read_Show_Write"
   ]
  },
  {
   "cell_type": "code",
   "execution_count": 11,
   "metadata": {},
   "outputs": [],
   "source": [
    "# Image importing\n",
    "img = cv2.imread('Man.jpeg')\n",
    "\n",
    "# viewing\n",
    "cv2.imshow('IMAGE', img)\n",
    "key = cv2.waitKey(0)\n",
    "\n",
    "if key == ord('s'):\n",
    "    # writing to another image\n",
    "    cv2.imwrite('Mancopy.jpeg', img)\n",
    "    \n",
    "cv2.destroyAllWindows()"
   ]
  },
  {
   "cell_type": "markdown",
   "metadata": {},
   "source": [
    "## Cropping"
   ]
  },
  {
   "cell_type": "code",
   "execution_count": 4,
   "metadata": {},
   "outputs": [],
   "source": [
    "# Cropping the image\n",
    "cropped = img[0:100, 0:200]      # [yi:yf , xi:xf]\n",
    "\n",
    "\n",
    "cv2.imshow(\"Cropped Image\", cropped)\n",
    "cv2.waitKey(0)\n",
    "cv2.destroyAllWindows()"
   ]
  },
  {
   "cell_type": "markdown",
   "metadata": {},
   "source": [
    "## Resizing"
   ]
  },
  {
   "cell_type": "code",
   "execution_count": 6,
   "metadata": {},
   "outputs": [],
   "source": [
    "# Resizing the Image\n",
    "x,y,_ = img.shape\n",
    "resized = cv2.resize(img, (x//2, y//2))\n",
    "\n",
    "cv2.imshow(\"Resized Image\", resized)\n",
    "cv2.waitKey(0)\n",
    "cv2.destroyAllWindows()"
   ]
  },
  {
   "cell_type": "markdown",
   "metadata": {},
   "source": [
    "## Rotating_using_imutils"
   ]
  },
  {
   "cell_type": "code",
   "execution_count": 12,
   "metadata": {},
   "outputs": [],
   "source": [
    "# Rotating the Image\n",
    "rot = cv2.rotate(img, cv2.ROTATE_90_CLOCKWISE) \n",
    "\n",
    "cv2.imshow(\"Rotated Image\", rot) \n",
    "cv2.waitKey(0) \n",
    "cv2.destroyAllWindows()\n",
    "\n",
    "# OR \n",
    "\n",
    "rot = imutils.rotate(img, 45)\n",
    "cv2.imshow(\"imutils rotated image\", rot)\n",
    "cv2.waitKey(0) \n",
    "cv2.destroyAllWindows()\n",
    "\n",
    "# bounded rotate\n",
    "\n",
    "rot_bound = imutils.rotate_bound(img, 45)\n",
    "cv2.imshow(\"bounded rotated image\", rot_bound)\n",
    "cv2.waitKey(0) \n",
    "cv2.destroyAllWindows()"
   ]
  },
  {
   "cell_type": "markdown",
   "metadata": {},
   "source": [
    "## Grayscaling_and_Thresholding"
   ]
  },
  {
   "cell_type": "code",
   "execution_count": 13,
   "metadata": {},
   "outputs": [],
   "source": [
    "# Greyscaling the image.\n",
    "img = cv2.imread('Man.jpeg',0)\n",
    "\n",
    "cv2.imshow('B&W', img)\n",
    "cv2.waitKey(0)\n",
    "cv2.destroyAllWindows()"
   ]
  },
  {
   "cell_type": "markdown",
   "metadata": {},
   "source": [
    "## Blurring/Smoothing"
   ]
  },
  {
   "cell_type": "code",
   "execution_count": 29,
   "metadata": {},
   "outputs": [],
   "source": [
    "# Bluring the image\n",
    "blurred = cv2.GaussianBlur(img, (11, 11), 0)\n",
    "cv2.imshow(\"Blurred\", blurred)\n",
    "cv2.waitKey(0)\n",
    "cv2.destroyAllWindows()"
   ]
  },
  {
   "cell_type": "markdown",
   "metadata": {},
   "source": [
    "------\n",
    "\n",
    "## Image Processing : 2<sup>nd</sup> phase"
   ]
  },
  {
   "cell_type": "markdown",
   "metadata": {},
   "source": [
    "### **[Drawing a Line](#Drawing_Lines)**\n",
    "### **[Drawing a Bounding Region](#Bounding_Regions)**\n",
    "### **[Writing on an Image](#Text_On_Image)**\n",
    "### **[Face Detection](#Face_Detection)**\n",
    "### **[Contours—A Method for Object Detection](#)**"
   ]
  },
  {
   "cell_type": "markdown",
   "metadata": {},
   "source": [
    "## Drawing_Lines"
   ]
  },
  {
   "cell_type": "code",
   "execution_count": 31,
   "metadata": {},
   "outputs": [],
   "source": [
    "# Line\n",
    "img = cv2.imread('Man.jpeg', 1)\n",
    "cv2.line(img, (0, 0), (500,300), (224,224,58), 4)\n",
    "cv2.imshow(\"Line\", img)\n",
    "cv2.waitKey(0)\n",
    "cv2.destroyAllWindows()\n",
    "\n",
    "# Arrow\n",
    "cv2.arrowedLine(img, (20, 20), (200,20), (224,224,58), 4)\n",
    "cv2.imshow(\"Arrow\", img)\n",
    "cv2.waitKey(0)\n",
    "cv2.destroyAllWindows()"
   ]
  },
  {
   "cell_type": "markdown",
   "metadata": {},
   "source": [
    " ## Bounding_Regions"
   ]
  },
  {
   "cell_type": "code",
   "execution_count": 44,
   "metadata": {},
   "outputs": [],
   "source": [
    "# Rectangle\n",
    "img = cv2.imread('Man.jpeg', 1)\n",
    "cv2.rectangle(img, (100,20), (200,150), (0,200,0), 4)\n",
    "cv2.imshow(\"Rectangle\", img)\n",
    "cv2.waitKey(0)\n",
    "cv2.destroyAllWindows()\n",
    "\n",
    "# Circle\n",
    "img = cv2.imread('Man.jpeg', 1)\n",
    "cv2.circle(img, (150,80),70, (0,200,0), -1)      # -1 thickness fills the shape\n",
    "cv2.imshow(\"Circle\", img)\n",
    "cv2.waitKey(0)\n",
    "cv2.destroyAllWindows()"
   ]
  },
  {
   "cell_type": "markdown",
   "metadata": {},
   "source": [
    "## Text_On_Image"
   ]
  },
  {
   "cell_type": "code",
   "execution_count": 43,
   "metadata": {},
   "outputs": [],
   "source": [
    "screen = np.zeros([512,512,3], np.uint8)     ## Blank screen\n",
    "\n",
    "cv2.putText(screen, \"XXDIL\", (100,250), cv2.FONT_HERSHEY_SIMPLEX, 4, (234,226,72), 3, cv2.LINE_AA)\n",
    "\n",
    "cv2.imshow(\"Text\",screen)\n",
    "cv2.waitKey(0)\n",
    "cv2.destroyAllWindows()"
   ]
  },
  {
   "cell_type": "markdown",
   "metadata": {},
   "source": [
    "## Face_Detection"
   ]
  },
  {
   "cell_type": "code",
   "execution_count": 45,
   "metadata": {},
   "outputs": [
    {
     "name": "stdout",
     "output_type": "stream",
     "text": [
      "--2020-08-07 13:10:55--  https://raw.githubusercontent.com/opencv/opencv/master/data/haarcascades/haarcascade_eye.xml\n",
      "Resolving raw.githubusercontent.com (raw.githubusercontent.com)... 151.101.140.133\n",
      "Connecting to raw.githubusercontent.com (raw.githubusercontent.com)|151.101.140.133|:443... connected.\n",
      "HTTP request sent, awaiting response... 200 OK\n",
      "Length: 341406 (333K) [text/plain]\n",
      "Saving to: ‘drive/gaze/haarcascade_eye.xml’\n",
      "\n",
      "haarcascade_eye.xml 100%[===================>] 333.40K   557KB/s    in 0.6s    \n",
      "\n",
      "2020-08-07 13:10:57 (557 KB/s) - ‘drive/gaze/haarcascade_eye.xml’ saved [341406/341406]\n",
      "\n"
     ]
    }
   ],
   "source": [
    "!wget https://raw.githubusercontent.com/opencv/opencv/master/data/haarcascades/haarcascade_eye.xml -P drive/gaze"
   ]
  },
  {
   "cell_type": "code",
   "execution_count": 46,
   "metadata": {},
   "outputs": [
    {
     "name": "stdout",
     "output_type": "stream",
     "text": [
      "--2020-08-07 13:11:09--  https://raw.githubusercontent.com/opencv/opencv/master/data/haarcascades/haarcascade_frontalface_default.xml\n",
      "Resolving raw.githubusercontent.com (raw.githubusercontent.com)... 151.101.140.133\n",
      "Connecting to raw.githubusercontent.com (raw.githubusercontent.com)|151.101.140.133|:443... connected.\n",
      "HTTP request sent, awaiting response... 200 OK\n",
      "Length: 930127 (908K) [text/plain]\n",
      "Saving to: ‘drive/gaze/haarcascade_frontalface_default.xml’\n",
      "\n",
      "haarcascade_frontal 100%[===================>] 908.33K   561KB/s    in 1.6s    \n",
      "\n",
      "2020-08-07 13:11:12 (561 KB/s) - ‘drive/gaze/haarcascade_frontalface_default.xml’ saved [930127/930127]\n",
      "\n"
     ]
    }
   ],
   "source": [
    "!wget https://raw.githubusercontent.com/opencv/opencv/master/data/haarcascades/haarcascade_frontalface_default.xml -P drive/gaze"
   ]
  },
  {
   "cell_type": "code",
   "execution_count": 58,
   "metadata": {},
   "outputs": [
    {
     "name": "stdout",
     "output_type": "stream",
     "text": [
      "1 faces detected!\n"
     ]
    },
    {
     "ename": "error",
     "evalue": "OpenCV(4.2.0) ../modules/imgcodecs/src/loadsave.cpp:661: error: (-2:Unspecified error) could not find a writer for the specified extension in function 'imwrite_'\n",
     "output_type": "error",
     "traceback": [
      "\u001b[0;31m---------------------------------------------------------------------------\u001b[0m",
      "\u001b[0;31merror\u001b[0m                                     Traceback (most recent call last)",
      "\u001b[0;32m<ipython-input-58-f3c3a1f37dac>\u001b[0m in \u001b[0;36m<module>\u001b[0;34m\u001b[0m\n\u001b[1;32m     17\u001b[0m        \u001b[0mcv2\u001b[0m\u001b[0;34m.\u001b[0m\u001b[0mrectangle\u001b[0m\u001b[0;34m(\u001b[0m\u001b[0mroi_color\u001b[0m\u001b[0;34m,\u001b[0m\u001b[0;34m(\u001b[0m\u001b[0mex\u001b[0m\u001b[0;34m,\u001b[0m\u001b[0mey\u001b[0m\u001b[0;34m)\u001b[0m\u001b[0;34m,\u001b[0m\u001b[0;34m(\u001b[0m\u001b[0mex\u001b[0m\u001b[0;34m+\u001b[0m\u001b[0mew\u001b[0m\u001b[0;34m,\u001b[0m\u001b[0mey\u001b[0m\u001b[0;34m+\u001b[0m\u001b[0meh\u001b[0m\u001b[0;34m)\u001b[0m\u001b[0;34m,\u001b[0m\u001b[0;34m(\u001b[0m\u001b[0;36m0\u001b[0m\u001b[0;34m,\u001b[0m\u001b[0;36m255\u001b[0m\u001b[0;34m,\u001b[0m\u001b[0;36m0\u001b[0m\u001b[0;34m)\u001b[0m\u001b[0;34m,\u001b[0m\u001b[0;36m2\u001b[0m\u001b[0;34m)\u001b[0m\u001b[0;34m\u001b[0m\u001b[0;34m\u001b[0m\u001b[0m\n\u001b[1;32m     18\u001b[0m \u001b[0mcv2\u001b[0m\u001b[0;34m.\u001b[0m\u001b[0mimshow\u001b[0m\u001b[0;34m(\u001b[0m\u001b[0;34m\"faces\"\u001b[0m\u001b[0;34m,\u001b[0m\u001b[0mimage\u001b[0m\u001b[0;34m)\u001b[0m\u001b[0;34m\u001b[0m\u001b[0;34m\u001b[0m\u001b[0m\n\u001b[0;32m---> 19\u001b[0;31m \u001b[0mcv2\u001b[0m\u001b[0;34m.\u001b[0m\u001b[0mimwrite\u001b[0m\u001b[0;34m(\u001b[0m\u001b[0;34m\"detected\"\u001b[0m\u001b[0;34m,\u001b[0m \u001b[0mimage\u001b[0m\u001b[0;34m)\u001b[0m\u001b[0;34m\u001b[0m\u001b[0;34m\u001b[0m\u001b[0m\n\u001b[0m\u001b[1;32m     20\u001b[0m \u001b[0mcv2\u001b[0m\u001b[0;34m.\u001b[0m\u001b[0mwaitKey\u001b[0m\u001b[0;34m(\u001b[0m\u001b[0;36m0\u001b[0m\u001b[0;34m)\u001b[0m\u001b[0;34m\u001b[0m\u001b[0;34m\u001b[0m\u001b[0m\n\u001b[1;32m     21\u001b[0m \u001b[0mcv2\u001b[0m\u001b[0;34m.\u001b[0m\u001b[0mdestroyAllWindows\u001b[0m\u001b[0;34m(\u001b[0m\u001b[0;34m)\u001b[0m\u001b[0;34m\u001b[0m\u001b[0;34m\u001b[0m\u001b[0m\n",
      "\u001b[0;31merror\u001b[0m: OpenCV(4.2.0) ../modules/imgcodecs/src/loadsave.cpp:661: error: (-2:Unspecified error) could not find a writer for the specified extension in function 'imwrite_'\n"
     ]
    }
   ],
   "source": [
    "image_path = \"aadil.png\"\n",
    "face_cascade = cv2.CascadeClassifier('drive/gaze/haarcascade_frontalface_default.xml')\n",
    "eye_cascade = cv2.CascadeClassifier('drive/gaze/haarcascade_eye.xml')\n",
    "\n",
    "image = cv2.imread(image_path)\n",
    "gray = cv2.cvtColor(image, cv2.COLOR_BGR2GRAY)\n",
    "faces = face_cascade.detectMultiScale( gray, scaleFactor= 1.3, minNeighbors= 5, minSize=(20, 20))\n",
    "faces_detected = format(len(faces)) + \" faces detected!\"\n",
    "print(faces_detected)\n",
    "# Draw a rectangle around the faces\n",
    "for (x, y, w, h) in faces:\n",
    "    cv2.rectangle(image, (x, y), (x+w, y+h), (255, 255, 0), 2)\n",
    "    roi_gray = gray[y:y+h, x:x+w]\n",
    "    roi_color = image[y:y+h, x:x+w]\n",
    "    eyes = eye_cascade.detectMultiScale(roi_gray, 1.1, 5)\n",
    "    for (ex,ey,ew,eh) in eyes:\n",
    "       cv2.rectangle(roi_color,(ex,ey),(ex+ew,ey+eh),(0,255,0),2)\n",
    "cv2.imshow(\"faces\",image)\n",
    "cv2.imwrite(\"detected\", image)\n",
    "cv2.waitKey(0)\n",
    "cv2.destroyAllWindows()"
   ]
  },
  {
   "cell_type": "markdown",
   "metadata": {},
   "source": [
    "------\n",
    "# Video Processing"
   ]
  },
  {
   "cell_type": "markdown",
   "metadata": {},
   "source": [
    "## Videos"
   ]
  },
  {
   "cell_type": "code",
   "execution_count": 6,
   "metadata": {},
   "outputs": [],
   "source": [
    "cap = cv2.VideoCapture(0)\n",
    "\n",
    "while(True):\n",
    "    ret, frame = cap.read()\n",
    "    cv2.imshow('Video', frame)\n",
    "    \n",
    "    if cv2.waitKey(1) & 0xFF == ord('q'):\n",
    "        break\n",
    "\n",
    "cap.release()\n",
    "cv2.destroyAllWindows()"
   ]
  },
  {
   "cell_type": "code",
   "execution_count": 3,
   "metadata": {},
   "outputs": [],
   "source": [
    "b, g, r = cv2.split(img)\n",
    "cv2.imshow(\"blue\", b)\n",
    "cv2.imshow(\"green\", g)\n",
    "cv2.imshow(\"red\", r)\n",
    "\n",
    "cv2.waitKey(0)\n",
    "cv2.destroyAllWindows()\n"
   ]
  }
 ],
 "metadata": {
  "kernelspec": {
   "display_name": "Python 3",
   "language": "python",
   "name": "python3"
  },
  "language_info": {
   "codemirror_mode": {
    "name": "ipython",
    "version": 3
   },
   "file_extension": ".py",
   "mimetype": "text/x-python",
   "name": "python",
   "nbconvert_exporter": "python",
   "pygments_lexer": "ipython3",
   "version": "3.8.2"
  }
 },
 "nbformat": 4,
 "nbformat_minor": 4
}
